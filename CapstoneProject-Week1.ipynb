{
 "cells": [
  {
   "cell_type": "markdown",
   "metadata": {},
   "source": [
    "# Data Science Capstone Project (Part 1)\n",
    "\n",
    "\n",
    "## Contents\n",
    "\n",
    "-  Introduction\n",
    "\n",
    "-  Data\n",
    "\n",
    "\n",
    "\n",
    "\n",
    "## Introduction\n",
    "\n",
    "Ghana is a West-African country located along the Gulf of Guinea and the Atlantic Ocean. This nation of approximately 30 million people _[1](http://worldpopulationreview.com/countries/ghana-population/)_ has been heralded as the next big tourist destination in 2019 _[2](https://edition.cnn.com/travel/article/ghana-year-of-return-tourism-intl/index.html)_. Home of the famous Ashanti Kingdom, the country has become the top-spot for tourist vacations in Africa. It gathers thousands of people to have a feel of the authentic African experience. \n",
    "<br> <br>\n",
    "It is quite notable historically, for its historical landmarks such the Cape Coast Castle which played a pivotal role in the trans-Atlantic slave trade, the Elmina Castle, the Usher Fort, and the Christiansborg Castle, just to name a few. Other tourist attractions and destinations also include a vibrant tropical climate all year-round, diverse wildlife, palm-lined sandy beaches, caves, mountains, rivers and lakes such as the Lake Volta which is the largest man-made lake in the world by surface area _[3](https://en.wikipedia.org/wiki/lake\\__volta)_. \n",
    "<br> <br>\n",
    "For the purposes of this project, scraped web data of the top tourist attractions in Ghana per the recommendation of ‘TripSavvy’, (a travel information website) will be explored based on restaurants or food joints available to give travelers and tourists an overview of where to find the best food available in those areas using foursquare data.  The outcome or results of this project could be useful to tourists and investors alike to either know where to find the best food in a given location, or give an idea where to invest in a restaurant business.\n",
    "\n",
    "\n",
    "\n",
    "\n",
    "## Data\n",
    "\n",
    "The main data would be based on the recommendation of **TripSavvy**, a world-renowned travel information website, which would be the main pointers for the top tourist destinations in Ghana, and each of the recommended locations would be explored using the FourSquare API, to find closest food-joints or restaurants in those areas. The data from TripSavvy will give us reliable information on the top locations to visit in Ghana, and Foursquare will be useful to show restaurants in those locations with reviews, and ratings from tourists who have visited the restaurants. \n",
    "The website where all the information would be taken from can be found below:\n",
    "https://www.tripsavvy.com/top-places-to-visit-in-ghana-1454323 (Last Date accessed 12 April 2019)\n",
    "    \n",
    "\n"
   ]
  },
  {
   "cell_type": "code",
   "execution_count": null,
   "metadata": {},
   "outputs": [],
   "source": []
  }
 ],
 "metadata": {
  "kernelspec": {
   "display_name": "Python 3",
   "language": "python",
   "name": "python3"
  },
  "language_info": {
   "codemirror_mode": {
    "name": "ipython",
    "version": 3
   },
   "file_extension": ".py",
   "mimetype": "text/x-python",
   "name": "python",
   "nbconvert_exporter": "python",
   "pygments_lexer": "ipython3",
   "version": "3.6.4"
  }
 },
 "nbformat": 4,
 "nbformat_minor": 2
}
